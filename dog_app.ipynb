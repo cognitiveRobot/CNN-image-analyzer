{
 "cells": [
  {
   "cell_type": "markdown",
   "metadata": {},
   "source": [
    "# Artificial Intelligence Nanodegree\n",
    "\n",
    "## Convolutional Neural Networks\n",
    "\n",
    "## Project: Write an Algorithm for a Dog Identification App \n",
    "\n",
    "---\n",
    "\n",
    "In this notebook, some template code has already been provided for you, and you will need to implement additional functionality to successfully complete this project. You will not need to modify the included code beyond what is requested. Sections that begin with **'(IMPLEMENTATION)'** in the header indicate that the following block of code will require additional functionality which you must provide. Instructions will be provided for each section, and the specifics of the implementation are marked in the code block with a 'TODO' statement. Please be sure to read the instructions carefully! \n",
    "\n",
    "> **Note**: Once you have completed all of the code implementations, you need to finalize your work by exporting the iPython Notebook as an HTML document. Before exporting the notebook to html, all of the code cells need to have been run so that reviewers can see the final implementation and output. You can then export the notebook by using the menu above and navigating to  \\n\",\n",
    "    \"**File -> Download as -> HTML (.html)**. Include the finished document along with this notebook as your submission.\n",
    "\n",
    "In addition to implementing code, there will be questions that you must answer which relate to the project and your implementation. Each section where you will answer a question is preceded by a **'Question X'** header. Carefully read each question and provide thorough answers in the following text boxes that begin with **'Answer:'**. Your project submission will be evaluated based on your answers to each of the questions and the implementation you provide.\n",
    "\n",
    ">**Note:** Code and Markdown cells can be executed using the **Shift + Enter** keyboard shortcut.  Markdown cells can be edited by double-clicking the cell to enter edit mode.\n",
    "\n",
    "The rubric contains _optional_ \"Stand Out Suggestions\" for enhancing the project beyond the minimum requirements. If you decide to pursue the \"Stand Out Suggestions\", you should include the code in this IPython notebook.\n",
    "\n",
    "\n",
    "\n",
    "---\n",
    "### Why We're Here \n",
    "\n",
    "In this notebook, you will make the first steps towards developing an algorithm that could be used as part of a mobile or web app.  At the end of this project, your code will accept any user-supplied image as input.  If a dog is detected in the image, it will provide an estimate of the dog's breed.  If a human is detected, it will provide an estimate of the dog breed that is most resembling.  The image below displays potential sample output of your finished project (... but we expect that each student's algorithm will behave differently!). \n",
    "\n",
    "![Sample Dog Output](images/sample_dog_output.png)\n",
    "\n",
    "In this real-world setting, you will need to piece together a series of models to perform different tasks; for instance, the algorithm that detects humans in an image will be different from the CNN that infers dog breed.  There are many points of possible failure, and no perfect algorithm exists.  Your imperfect solution will nonetheless create a fun user experience!\n",
    "\n",
    "### The Road Ahead\n",
    "\n",
    "We break the notebook into separate steps.  Feel free to use the links below to navigate the notebook.\n",
    "\n",
    "* [Step 0](#step0): Import Datasets\n",
    "* [Step 1](#step1): Detect Humans\n",
    "* [Step 2](#step2): Detect Dogs\n",
    "* [Step 3](#step3): Create a CNN to Classify Dog Breeds (from Scratch)\n",
    "* [Step 4](#step4): Use a CNN to Classify Dog Breeds (using Transfer Learning)\n",
    "* [Step 5](#step5): Create a CNN to Classify Dog Breeds (using Transfer Learning)\n",
    "* [Step 6](#step6): Write your Algorithm\n",
    "* [Step 7](#step7): Test Your Algorithm\n",
    "\n",
    "---\n",
    "<a id='step0'></a>\n",
    "## Step 0: Import Datasets\n",
    "\n",
    "### Import Dog Dataset\n",
    "\n",
    "In the code cell below, we import a dataset of dog images.  We populate a few variables through the use of the `load_files` function from the scikit-learn library:\n",
    "- `train_files`, `valid_files`, `test_files` - numpy arrays containing file paths to images\n",
    "- `train_targets`, `valid_targets`, `test_targets` - numpy arrays containing onehot-encoded classification labels \n",
    "- `dog_names` - list of string-valued dog breed names for translating labels"
   ]
  },
  {
   "cell_type": "code",
   "execution_count": 1,
   "metadata": {
    "scrolled": true
   },
   "outputs": [
    {
     "name": "stderr",
     "output_type": "stream",
     "text": [
      "/home/nobu/anaconda3/lib/python3.6/site-packages/h5py/__init__.py:36: FutureWarning: Conversion of the second argument of issubdtype from `float` to `np.floating` is deprecated. In future, it will be treated as `np.float64 == np.dtype(float).type`.\n",
      "  from ._conv import register_converters as _register_converters\n",
      "Using TensorFlow backend.\n"
     ]
    },
    {
     "name": "stdout",
     "output_type": "stream",
     "text": [
      "There are 133 total dog categories.\n",
      "There are 8351 total dog images.\n",
      "\n",
      "There are 6680 training dog images.\n",
      "There are 835 validation dog images.\n",
      "There are 836 test dog images.\n"
     ]
    }
   ],
   "source": [
    "from sklearn.datasets import load_files       \n",
    "from keras.utils import np_utils\n",
    "import numpy as np\n",
    "from glob import glob\n",
    "\n",
    "# define function to load train, test, and validation datasets\n",
    "def load_dataset(path):\n",
    "    data = load_files(path)#load files() from scikit-learn library\n",
    "    dog_files = np.array(data['filenames'])\n",
    "    dog_targets = np_utils.to_categorical(np.array(data['target']), 133)\n",
    "    return dog_files, dog_targets\n",
    "\n",
    "#################################################################################################\n",
    "# load train, test, and validation datasets\n",
    "train_files, train_targets = load_dataset('dogImages/train')\n",
    "valid_files, valid_targets = load_dataset('dogImages/valid')\n",
    "test_files, test_targets = load_dataset('dogImages/test')\n",
    "\n",
    "#print(train_files)\n",
    "#print(train_targets)#one-hot encoded classsification labels\n",
    "\n",
    "# load list of dog names\n",
    "dog_names = [item[20:-1] for item in sorted(glob(\"dogImages/train/*/\"))]\n",
    "\n",
    "#print(dog_names)\n",
    "\n",
    "# print statistics about the dataset\n",
    "print('There are %d total dog categories.' % len(dog_names))\n",
    "print('There are %s total dog images.\\n' % len(np.hstack([train_files, valid_files, test_files])))\n",
    "print('There are %d training dog images.' % len(train_files))\n",
    "print('There are %d validation dog images.' % len(valid_files))\n",
    "print('There are %d test dog images.'% len(test_files))\n",
    "\n"
   ]
  },
  {
   "cell_type": "markdown",
   "metadata": {},
   "source": [
    "### Import Human Dataset\n",
    "\n",
    "In the code cell below, we import a dataset of human images, where the file paths are stored in the numpy array `human_files`."
   ]
  },
  {
   "cell_type": "code",
   "execution_count": 2,
   "metadata": {
    "scrolled": true
   },
   "outputs": [
    {
     "name": "stdout",
     "output_type": "stream",
     "text": [
      "['lfw/Wolfgang_Clement/Wolfgang_Clement_0001.jpg'\n",
      " 'lfw/Alicia_Keys/Alicia_Keys_0001.jpg'\n",
      " 'lfw/Cindy_Margolis/Cindy_Margolis_0001.jpg' ...\n",
      " 'lfw/Hamid_Karzai/Hamid_Karzai_0019.jpg'\n",
      " 'lfw/Pedro_Malan/Pedro_Malan_0004.jpg'\n",
      " 'lfw/Colin_Powell/Colin_Powell_0096.jpg']\n",
      "There are 13233 total human images.\n"
     ]
    }
   ],
   "source": [
    "import random\n",
    "random.seed(8675309)\n",
    "\n",
    "# load filenames in shuffled human dataset\n",
    "human_files = np.array(glob(\"lfw/*/*\"))\n",
    "random.shuffle(human_files)\n",
    "\n",
    "print(human_files)\n",
    "\n",
    "# print statistics about the dataset\n",
    "print('There are %d total human images.' % len(human_files))"
   ]
  },
  {
   "cell_type": "markdown",
   "metadata": {},
   "source": [
    "---\n",
    "<a id='step1'></a>\n",
    "## Step 1: Detect Humans\n",
    "\n",
    "We use OpenCV's implementation of [Haar feature-based cascade classifiers](http://docs.opencv.org/trunk/d7/d8b/tutorial_py_face_detection.html) to detect human faces in images.  OpenCV provides many pre-trained face detectors, stored as XML files on [github](https://github.com/opencv/opencv/tree/master/data/haarcascades).  We have downloaded one of these detectors and stored it in the `haarcascades` directory.\n",
    "\n",
    "In the next code cell, we demonstrate how to use this detector to find human faces in a sample image."
   ]
  },
  {
   "cell_type": "code",
   "execution_count": 3,
   "metadata": {},
   "outputs": [
    {
     "name": "stdout",
     "output_type": "stream",
     "text": [
      "Number of faces detected: 1\n"
     ]
    },
    {
     "data": {
      "image/png": "[encoded data removed]",
      "text/plain": [
       "<Figure size 432x288 with 1 Axes>"
      ]
     },
     "metadata": {},
     "output_type": "display_data"
    }
   ],
   "source": [
    "import cv2                \n",
    "import matplotlib.pyplot as plt                        \n",
    "%matplotlib inline   \n",
    "\n",
    "# extract pre-trained face detector\n",
    "face_cascade = cv2.CascadeClassifier('haarcascades/haarcascade_frontalface_alt.xml')\n",
    "\n",
    "# load color (BGR) image\n",
    "img = cv2.imread(human_files[3])\n",
    "# convert BGR image to grayscale\n",
    "gray = cv2.cvtColor(img, cv2.COLOR_BGR2GRAY)\n",
    "\n",
    "# find faces in image\n",
    "faces = face_cascade.detectMultiScale(gray)\n",
    "\n",
    "# print number of faces detected in the image\n",
    "print('Number of faces detected:', len(faces))\n",
    "\n",
    "# get bounding box for each detected face\n",
    "for (x,y,w,h) in faces:\n",
    "    # add bounding box to color image\n",
    "    cv2.rectangle(img,(x,y),(x+w,y+h),(255,0,0),2)\n",
    "    \n",
    "# convert BGR image to RGB for plotting\n",
    "cv_rgb = cv2.cvtColor(img, cv2.COLOR_BGR2RGB)\n",
    "\n",
    "# display the image, along with bounding box\n",
    "plt.imshow(cv_rgb)\n",
    "plt.show()"
   ]
  },
  {
   "cell_type": "markdown",
   "metadata": {},
   "source": [
    "Before using any of the face detectors, it is standard procedure to convert the images to grayscale.  The `detectMultiScale` function executes the classifier stored in `face_cascade` and takes the grayscale image as a parameter.  \n",
    "\n",
    "In the above code, `faces` is a numpy array of detected faces, where each row corresponds to a detected face.  Each detected face is a 1D array with four entries that specifies the bounding box of the detected face.  The first two entries in the array (extracted in the above code as `x` and `y`) specify the horizontal and vertical positions of the top left corner of the bounding box.  The last two entries in the array (extracted here as `w` and `h`) specify the width and height of the box.\n",
    "\n",
    "### Write a Human Face Detector\n",
    "\n",
    "We can use this procedure to write a function that returns `True` if a human face is detected in an image and `False` otherwise.  This function, aptly named `face_detector`, takes a string-valued file path to an image as input and appears in the code block below."
   ]
  },
  {
   "cell_type": "code",
   "execution_count": 4,
   "metadata": {},
   "outputs": [],
   "source": [
    "# returns \"True\" if face is detected in image stored at img_path\n",
    "def face_detector(img_path):\n",
    "    img = cv2.imread(img_path)\n",
    "    gray = cv2.cvtColor(img, cv2.COLOR_BGR2GRAY)\n",
    "    faces = face_cascade.detectMultiScale(gray)\n",
    "    return len(faces) > 0"
   ]
  },
  {
   "cell_type": "markdown",
   "metadata": {},
   "source": [
    "### (IMPLEMENTATION) Assess the Human Face Detector\n",
    "\n",
    "__Question 1:__ Use the code cell below to test the performance of the `face_detector` function.  \n",
    "- What percentage of the first 100 images in `human_files` have a detected human face?  \n",
    "- What percentage of the first 100 images in `dog_files` have a detected human face? \n",
    "\n",
    "Ideally, we would like 100% of human images with a detected face and 0% of dog images with a detected face.  You will see that our algorithm falls short of this goal, but still gives acceptable performance.  We extract the file paths for the first 100 images from each of the datasets and store them in the numpy arrays `human_files_short` and `dog_files_short`.\n",
    "\n",
    "__Answer:__ See output of code cell below.  Also, I cannot find the question regarding Haar Cascade for face detection so based on what I read, since it already has a face detection classifier in XML format, I would imagine that it a sufficient algorithm.  However, it seems from the explanation that an image of the face from the front is required.  So in cases when this is not possible, ie. video of people walking in a shopping mall in different directions from one camera angle, it may not give the results wanted.  "
   ]
  },
  {
   "cell_type": "code",
   "execution_count": 5,
   "metadata": {},
   "outputs": [
    {
     "name": "stdout",
     "output_type": "stream",
     "text": [
      "num human detected: 100\n",
      "percent faces in human images: 100.00%\n",
      "num dog detected: 11\n",
      "percent faces in dog images: 11.00%\n"
     ]
    }
   ],
   "source": [
    "\n",
    "\n",
    "## TODO: Test the performance of the face_detector algorithm \n",
    "## on the images in human_files_short and dog_files_short.\n",
    "#####################################################################################################\n",
    "#pickle dog files\n",
    "import pickle\n",
    "\n",
    "pickle.dump( train_files, open( \"train_files.p\", \"wb\" ) )\n",
    "pickle.dump( train_targets, open( \"train_targets.p\", \"wb\" ) )\n",
    "\n",
    "pickle.dump( valid_files, open( \"valid_files.p\", \"wb\" ) )\n",
    "pickle.dump( valid_targets, open( \"valid_targets.p\", \"wb\" ) )\n",
    "\n",
    "pickle.dump( test_files, open( \"test_files.p\", \"wb\" ) )\n",
    "pickle.dump( test_targets, open( \"test_targets.p\", \"wb\" ) )\n",
    "\n",
    "\n",
    "############load dog pickle files on to local machine\n",
    "import pickle\n",
    "\n",
    "train_files = pickle.load( open( \"train_files.p\", \"rb\" ) )\n",
    "train_targets = pickle.load( open( \"train_targets.p\", \"rb\" ) )\n",
    "\n",
    "valid_files = pickle.load( open( \"valid_files.p\", \"rb\" ) )\n",
    "valid_targets = pickle.load( open( \"valid_targets.p\", \"rb\" ) )\n",
    "\n",
    "test_files = pickle.load( open( \"test_files.p\", \"rb\" ) )\n",
    "test_targets = pickle.load( open( \"test_targets.p\", \"rb\" ) )\n",
    "\n",
    "########################################################################################################\n",
    "#pickle human files\n",
    "pickle.dump( human_files, open(\"human_files.p\", \"wb\"))\n",
    "\n",
    "#############load human files\n",
    "\n",
    "human_files = pickle.load( open( \"human_files.p\", \"rb\"))\n",
    "\n",
    "###########################################################################################################\n",
    "human_files_short = human_files[:100]\n",
    "dog_files_short = train_files[:100]\n",
    "# Do NOT modify the code above this line.\n",
    "#the above cuts the array to first 100 indexes\n",
    "\n",
    "#test_file is either human_files_short or dog_files_short\n",
    "#test_file\n",
    "def test_human_generator(test_file): \n",
    "    count=0\n",
    "    for i in range(len(test_file)): #loop over entire array\n",
    "        #call face detector on each index\n",
    "        true_false=face_detector(test_file[i])\n",
    "        if(true_false==True):\n",
    "            count+=1 #increment a counter out of 100 images\n",
    "    return count\n",
    "#call function on each and capture returned value \n",
    "num_human_detected = test_human_generator(human_files_short)\n",
    "print('num human detected:', num_human_detected)\n",
    "print('percent faces in human images: %.2f%%' % num_human_detected)\n",
    "\n",
    "#dogs\n",
    "num_dog_detected = test_human_generator(dog_files_short)\n",
    "print('num dog detected:', num_dog_detected)\n",
    "print('percent faces in dog images: %.2f%%' % num_dog_detected)\n",
    "\n",
    "\n",
    "human_files = np.array(glob(\"lfw/*/*\"))"
   ]
  },
  {
   "cell_type": "markdown",
   "metadata": {},
   "source": [
    "__Question 2:__ This algorithmic choice necessitates that we communicate to the user that we accept human images only when they provide a clear view of a face (otherwise, we risk having unneccessarily frustrated users!). In your opinion, is this a reasonable expectation to pose on the user? If not, can you think of a way to detect humans in images that does not necessitate an image with a clearly presented face?\n",
    "\n",
    "__Answer:__\n",
    "\n",
    "We suggest the face detector from OpenCV as a potential way to detect human images in your algorithm, but you are free to explore other approaches, especially approaches that make use of deep learning :).  Please use the code cell below to design and test your own face detection algorithm.  If you decide to pursue this _optional_ task, report performance on each of the datasets."
   ]
  },
  {
   "cell_type": "code",
   "execution_count": 6,
   "metadata": {},
   "outputs": [],
   "source": [
    "## (Optional) TODO: Report the performance of another  \n",
    "## face detection algorithm on the LFW dataset\n",
    "### Feel free to use as many code cells as needed."
   ]
  },
  {
   "cell_type": "markdown",
   "metadata": {},
   "source": [
    "---\n",
    "<a id='step2'></a>\n",
    "## Step 2: Detect Dogs\n",
    "\n",
    "In this section, we use a pre-trained [ResNet-50](http://ethereon.github.io/netscope/#/gist/db945b393d40bfa26006) model to detect dogs in images.  Our first line of code downloads the ResNet-50 model, along with weights that have been trained on [ImageNet](http://www.image-net.org/), a very large, very popular dataset used for image classification and other vision tasks.  ImageNet contains over 10 million URLs, each linking to an image containing an object from one of [1000 categories](https://gist.github.com/yrevar/942d3a0ac09ec9e5eb3a).  Given an image, this pre-trained ResNet-50 model returns a prediction (derived from the available categories in ImageNet) for the object that is contained in the image."
   ]
  },
  {
   "cell_type": "code",
   "execution_count": 7,
   "metadata": {},
   "outputs": [],
   "source": [
    "from keras.applications.resnet50 import ResNet50\n",
    "\n",
    "# define ResNet50 model\n",
    "ResNet50_model = ResNet50(weights='imagenet')"
   ]
  },
  {
   "cell_type": "markdown",
   "metadata": {},
   "source": [
    "### Pre-process the Data\n",
    "\n",
    "When using TensorFlow as backend, Keras CNNs require a 4D array (which we'll also refer to as a 4D tensor) as input, with shape\n",
    "\n",
    "$$\n",
    "(\\text{nb_samples}, \\text{rows}, \\text{columns}, \\text{channels}),\n",
    "$$\n",
    "\n",
    "where `nb_samples` corresponds to the total number of images (or samples), and `rows`, `columns`, and `channels` correspond to the number of rows, columns, and channels for each image, respectively.  \n",
    "\n",
    "The `path_to_tensor` function below takes a string-valued file path to a color image as input and returns a 4D tensor suitable for supplying to a Keras CNN.  The function first loads the image and resizes it to a square image that is $224 \\times 224$ pixels.  Next, the image is converted to an array, which is then resized to a 4D tensor.  In this case, since we are working with color images, each image has three channels.  Likewise, since we are processing a single image (or sample), the returned tensor will always have shape\n",
    "\n",
    "$$\n",
    "(1, 224, 224, 3).\n",
    "$$\n",
    "\n",
    "The `paths_to_tensor` function takes a numpy array of string-valued image paths as input and returns a 4D tensor with shape \n",
    "\n",
    "$$\n",
    "(\\text{nb_samples}, 224, 224, 3).\n",
    "$$\n",
    "\n",
    "Here, `nb_samples` is the number of samples, or number of images, in the supplied array of image paths.  It is best to think of `nb_samples` as the number of 3D tensors (where each 3D tensor corresponds to a different image) in your dataset!"
   ]
  },
  {
   "cell_type": "code",
   "execution_count": 8,
   "metadata": {},
   "outputs": [],
   "source": [
    "from keras.preprocessing import image                  \n",
    "from tqdm import tqdm\n",
    "\n",
    "#for path to one image, returns a 4D tensor suitable as input to Keras CNN (num_imgs=1, heigth=224, width=224, channels=3)\n",
    "def path_to_tensor(img_path):\n",
    "    # loads RGB image as PIL.Image.Image type\n",
    "    img = image.load_img(img_path, target_size=(224, 224))\n",
    "    # convert PIL.Image.Image type to 3D tensor with shape (224, 224, 3)\n",
    "    x = image.img_to_array(img)\n",
    "    # convert 3D tensor to 4D tensor with shape (1, 224, 224, 3) and return 4D tensor\n",
    "    return np.expand_dims(x, axis=0)\n",
    "\n",
    "#multiple image path array as input and returns a 4D tensor with shape (num_imgs, height=224, width=224, channels=3)\n",
    "def paths_to_tensor(img_paths):\n",
    "    list_of_tensors = [path_to_tensor(img_path) for img_path in tqdm(img_paths)]\n",
    "    return np.vstack(list_of_tensors)\n"
   ]
  },
  {
   "cell_type": "markdown",
   "metadata": {},
   "source": [
    "### Making Predictions with ResNet-50\n",
    "\n",
    "Getting the 4D tensor ready for ResNet-50, and for any other pre-trained model in Keras, requires some additional processing.  First, the RGB image is converted to BGR by reordering the channels.  All pre-trained models have the additional normalization step that the mean pixel (expressed in RGB as $[103.939, 116.779, 123.68]$ and calculated from all pixels in all images in ImageNet) must be subtracted from every pixel in each image.  This is implemented in the imported function `preprocess_input`.  If you're curious, you can check the code for `preprocess_input` [here](https://github.com/fchollet/keras/blob/master/keras/applications/imagenet_utils.py).\n",
    "\n",
    "Now that we have a way to format our image for supplying to ResNet-50, we are now ready to use the model to extract the predictions.  This is accomplished with the `predict` method, which returns an array whose $i$-th entry is the model's predicted probability that the image belongs to the $i$-th ImageNet category.  This is implemented in the `ResNet50_predict_labels` function below.\n",
    "\n",
    "By taking the argmax of the predicted probability vector, we obtain an integer corresponding to the model's predicted object class, which we can identify with an object category through the use of this [dictionary](https://gist.github.com/yrevar/942d3a0ac09ec9e5eb3a). "
   ]
  },
  {
   "cell_type": "code",
   "execution_count": 9,
   "metadata": {},
   "outputs": [],
   "source": [
    "from keras.applications.resnet50 import preprocess_input, decode_predictions\n",
    "\n",
    "def ResNet50_predict_labels(img_path):\n",
    "    # returns prediction vector for image located at img_path\n",
    "    img = preprocess_input(path_to_tensor(img_path))\n",
    "    return np.argmax(ResNet50_model.predict(img)) #argmax is integer \n",
    "#corresponding to model's predicted object class, ie. predicted probability vector is 133 indexes?\n",
    "#ie. should return a value btwn 151 and 268 inclusive if it's a dog but that's only 117"
   ]
  },
  {
   "cell_type": "markdown",
   "metadata": {},
   "source": [
    "### Write a Dog Detector\n",
    "\n",
    "While looking at the [dictionary](https://gist.github.com/yrevar/942d3a0ac09ec9e5eb3a), you will notice that the categories corresponding to dogs appear in an uninterrupted sequence and correspond to dictionary keys 151-268, inclusive, to include all categories from `'Chihuahua'` to `'Mexican hairless'`.  Thus, in order to check to see if an image is predicted to contain a dog by the pre-trained ResNet-50 model, we need only check if the `ResNet50_predict_labels` function above returns a value between 151 and 268 (inclusive).\n",
    "\n",
    "We use these ideas to complete the `dog_detector` function below, which returns `True` if a dog is detected in an image (and `False` if not)."
   ]
  },
  {
   "cell_type": "code",
   "execution_count": 10,
   "metadata": {},
   "outputs": [],
   "source": [
    "### returns \"True\" if a dog is detected in the image stored at img_path\n",
    "def dog_detector(img_path):\n",
    "    prediction = ResNet50_predict_labels(img_path)\n",
    "    return ((prediction <= 268) & (prediction >= 151)) "
   ]
  },
  {
   "cell_type": "markdown",
   "metadata": {},
   "source": [
    "### (IMPLEMENTATION) Assess the Dog Detector\n",
    "\n",
    "__Question 3:__ Use the code cell below to test the performance of your `dog_detector` function.  \n",
    "- What percentage of the images in `human_files_short` have a detected dog?  \n",
    "- What percentage of the images in `dog_files_short` have a detected dog?\n",
    "\n",
    "__Answer:__ "
   ]
  },
  {
   "cell_type": "code",
   "execution_count": 11,
   "metadata": {},
   "outputs": [
    {
     "name": "stdout",
     "output_type": "stream",
     "text": [
      "num human detected: 2\n",
      "percent dogs in human images: 2.00%\n",
      "num dog detected: 100\n",
      "percent dogs in dog images: 100.00%\n"
     ]
    }
   ],
   "source": [
    "### TODO: Test the performance of the dog_detector function\n",
    "### on the images in human_files_short and dog_files_short.\n",
    "#call dog detector on each image in both files and get percentage\n",
    "\n",
    "#test_file is either human_files_short or dog_files_short\n",
    "#test_file\n",
    "def test_dog_generator(test_file): \n",
    "    count=0\n",
    "    for i in range(len(test_file)): #loop over entire array\n",
    "        #call face detector on each index\n",
    "        true_false=dog_detector(test_file[i])\n",
    "        if(true_false==True):\n",
    "            count+=1 #increment a counter out of 100 images\n",
    "    return count\n",
    "#call function on each and capture returned value \n",
    "num_dogs_in_human = test_dog_generator(human_files_short)\n",
    "print('num human detected:', num_dogs_in_human)\n",
    "print('percent dogs in human images: %.2f%%' % num_dogs_in_human)\n",
    "\n",
    "#dogs\n",
    "num_dogs_in_dogs= test_dog_generator(dog_files_short)\n",
    "print('num dog detected:', num_dogs_in_dogs)\n",
    "print('percent dogs in dog images: %.2f%%' % num_dogs_in_dogs)\n",
    "\n",
    "\n"
   ]
  },
  {
   "cell_type": "markdown",
   "metadata": {},
   "source": [
    "---\n",
    "<a id='step3'></a>\n",
    "## Step 3: Create a CNN to Classify Dog Breeds (from Scratch)\n",
    "\n",
    "Now that we have functions for detecting humans and dogs in images, we need a way to predict breed from images.  In this step, you will create a CNN that classifies dog breeds.  You must create your CNN _from scratch_ (so, you can't use transfer learning _yet_!), and you must attain a test accuracy of at least 1%.  In Step 5 of this notebook, you will have the opportunity to use transfer learning to create a CNN that attains greatly improved accuracy.\n",
    "\n",
    "Be careful with adding too many trainable layers!  More parameters means longer training, which means you are more likely to need a GPU to accelerate the training process.  Thankfully, Keras provides a handy estimate of the time that each epoch is likely to take; you can extrapolate this estimate to figure out how long it will take for your algorithm to train. \n",
    "\n",
    "We mention that the task of assigning breed to dogs from images is considered exceptionally challenging.  To see why, consider that *even a human* would have great difficulty in distinguishing between a Brittany and a Welsh Springer Spaniel.  \n",
    "\n",
    "Brittany | Welsh Springer Spaniel\n",
    "- | - \n",
    "<img src=\"images/Brittany_02625.jpg\" width=\"100\"> | <img src=\"images/Welsh_springer_spaniel_08203.jpg\" width=\"200\">\n",
    "\n",
    "It is not difficult to find other dog breed pairs with minimal inter-class variation (for instance, Curly-Coated Retrievers and American Water Spaniels).  \n",
    "\n",
    "Curly-Coated Retriever | American Water Spaniel\n",
    "- | -\n",
    "<img src=\"images/Curly-coated_retriever_03896.jpg\" width=\"200\"> | <img src=\"images/American_water_spaniel_00648.jpg\" width=\"200\">\n",
    "\n",
    "\n",
    "Likewise, recall that labradors come in yellow, chocolate, and black.  Your vision-based algorithm will have to conquer this high intra-class variation to determine how to classify all of these different shades as the same breed.  \n",
    "\n",
    "Yellow Labrador | Chocolate Labrador | Black Labrador\n",
    "- | -\n",
    "<img src=\"images/Labrador_retriever_06457.jpg\" width=\"150\"> | <img src=\"images/Labrador_retriever_06455.jpg\" width=\"240\"> | <img src=\"images/Labrador_retriever_06449.jpg\" width=\"220\">\n",
    "\n",
    "We also mention that random chance presents an exceptionally low bar: setting aside the fact that the classes are slightly imabalanced, a random guess will provide a correct answer roughly 1 in 133 times, which corresponds to an accuracy of less than 1%.  \n",
    "\n",
    "Remember that the practice is far ahead of the theory in deep learning.  Experiment with many different architectures, and trust your intuition.  And, of course, have fun! \n",
    "\n",
    "### Pre-process the Data\n",
    "\n",
    "We rescale the images by dividing every pixel in every image by 255."
   ]
  },
  {
   "cell_type": "code",
   "execution_count": 12,
   "metadata": {
    "scrolled": true
   },
   "outputs": [],
   "source": [
    "from PIL import ImageFile                            \n",
    "ImageFile.LOAD_TRUNCATED_IMAGES = True                 \n",
    "\n",
    "# pre-process the data for Keras\n",
    "#train_tensors = paths_to_tensor(train_files).astype('float32')/255\n",
    "#valid_tensors = paths_to_tensor(valid_files).astype('float32')/255\n",
    "#test_tensors = paths_to_tensor(test_files).astype('float32')/255\n",
    "\n",
    "########################################################################################\n",
    "#store the train_tensors into hdf5 locally (dog files)\n",
    "import h5py\n",
    "#hf1 = h5py.File('data_train.h5', 'w')# create file  and write to it\n",
    "#hf2= h5py.File('data_valid.h5', 'w')\n",
    "#hf3= h5py.File('data_test.h5', 'w')\n",
    "#create dataset within data file\n",
    "#hf1.create_dataset('dataset_train', data=train_tensors)#created dataset_1 of train_tensors\n",
    "#hf2.create_dataset('dataset_valid', data=valid_tensors)#dataset for valid_tensors\n",
    "#hf3.create_dataset('dataset_test', data=test_tensors)\n",
    "#close files to write\n",
    "#hf1.close()\n",
    "#hf2.close()\n",
    "#hf3.close()\n",
    "############################################################################################3\n",
    "#load data files\n",
    "#for train\n",
    "hf1 = h5py.File('data_train.h5', 'r') #read data from file into hf1\n",
    "n1 = hf1.get('dataset_train')#n1=dataset_1\n",
    "np.array(n1)#turn n1 into a numpy array\n",
    "train_tensors=np.array(n1)\n",
    "hf1.close()\n",
    "\n",
    "#for valid\n",
    "hf2 = h5py.File('data_valid.h5', 'r')\n",
    "n2 = hf2.get('dataset_valid')\n",
    "np.array(n2)\n",
    "valid_tensors=np.array(n2)\n",
    "hf2.close()\n",
    "\n",
    "#for test\n",
    "hf3 = h5py.File('data_test.h5', 'r')\n",
    "n3 = hf3.get('dataset_test')\n",
    "np.array(n3)\n",
    "test_tensors=np.array(n3)\n",
    "hf3.close()\n",
    "\n",
    "##########################################################################################\n",
    "#store human files into hdf5 locally\n",
    "\n",
    "#pre-process human data for Keras\n",
    "#memory error so break up human_files into 3 parts\n",
    "#human_files_one= human_files[:4500]\n",
    "#human_files_two=human_files[4500:9000]\n",
    "#human_files_three=human_files[9000:]\n",
    "\n",
    "#human_tensors_one = paths_to_tensor(human_files_one).astype('float32')/255\n",
    "#human_tensors_two = paths_to_tensor(human_files_two).astype('float32')/255\n",
    "#human_tensors_three = paths_to_tensor(human_files_three).astype('float32')/255\n",
    "#TODO: try to concatenate three human files or datasets \n",
    "\n",
    "#OR do them all in one go\n",
    "\n",
    "#human_tensors = paths_to_tensor(human_files).astype('float32')/255\n",
    "\n",
    "#hf4=h5py.File('human_data_one.h5', 'w')\n",
    "#hf4.create_dataset('human_dataset_one', data = human_tensors_one)#created above\n",
    "#hf4.close()\n",
    "\n",
    "#hf5=h5py.File('human_data_two.h5', 'w')\n",
    "#hf5.create_dataset('human_dataset_two', data = human_tensors_two)#created above\n",
    "#hf5.close()\n",
    "\n",
    "#hf6=h5py.File('human_data_three.h5', 'w')\n",
    "#hf6.create_dataset('human_dataset_three', data = human_tensors_three)#created above\n",
    "#hf6.close()\n",
    "\n",
    "\n",
    "#######################################################################################################\n",
    "#load\n",
    "#hf4=h5py.File('human_data_one.h5', 'r')\n",
    "#nh1=hf4.get('human_dataset_one')\n",
    "#np.array(nh1)\n",
    "#human_tensors_one=np.array(nh1)\n",
    "#hf4.close()\n",
    "\n",
    "#hf5=h5py.File('human_data_two.h5', 'r')\n",
    "#nh2=hf5.get('human_dataset_two')\n",
    "#np.array(nh2)\n",
    "#human_tensors_two=np.array(nh2)\n",
    "#hf5.close()\n",
    "\n",
    "#hf6=h5py.File('human_data_three.h5', 'r')\n",
    "#nh3=hf6.get('human_dataset_three')\n",
    "#np.array(nh3)\n",
    "#human_tensors_three=np.array(nh3)\n",
    "#hf6.close()\n",
    "##################################################################################################################\n",
    "\n",
    "\n",
    "\n",
    "\n",
    "\n"
   ]
  },
  {
   "cell_type": "markdown",
   "metadata": {},
   "source": [
    "# (IMPLEMENTATION) Model Architecture\n",
    "\n",
    "Create a CNN to classify dog breed.  At the end of your code cell block, summarize the layers of your model by executing the line:\n",
    "    \n",
    "        model.summary()\n",
    "\n",
    "We have imported some Python modules to get you started, but feel free to import as many modules as you need.  If you end up getting stuck, here's a hint that specifies a model that trains relatively fast on CPU and attains >1% test accuracy in 5 epochs:\n",
    "\n",
    "![Sample CNN](images/sample_cnn.png)\n",
    "           \n",
    "__Question 4:__ Outline the steps you took to get to your final CNN architecture and your reasoning at each step.  If you chose to use the hinted architecture above, describe why you think that CNN architecture should work well for the image classification task.\n",
    "\n",
    "__Answer:__ I looked at the sample architecture and replicated the model.summary() output but noticed that the number of parameters was quite low in comparison to the VGG16 model provided later so I added a layer to increase that to see if it would bump up the accuracy which it did.  The number of filters increases from the first to third Conv2D layer so it is going from simple features to more complex.  Stride set to one means it is \"screening\" the input at a very high detail level and then the pool size of 2 in the MaxPooling2D layers offsets that a bit to pull out the most important or most significant feature.  However, I think going with padding='same' might be better since the default is valid and \"cuts off\" the edges but with a stride of 1 I guess it is irrelevant.  Having a GAP layer before the dense layer would convert the input to a vector to be classified by Dense which is okay but I think I might try taking that out and adding a few dense layers like in other models we learned about in lectures. \n",
    "\n",
    "Update:\n",
    "\n",
    "I increased number of filters in 4th Conv2D layer since accuracy fluctuated between 0.95 and 1.05%.  Then I added softmax activation to the final Dense layer.  Either or both of these increased number of parameters from about 35,000 to over 60,000 (which I think is what one of the other models had) so I thought it would be okay.  "
   ]
  },
  {
   "cell_type": "code",
   "execution_count": 13,
   "metadata": {
    "scrolled": true
   },
   "outputs": [
    {
     "name": "stdout",
     "output_type": "stream",
     "text": [
      "_________________________________________________________________\n",
      "Layer (type)                 Output Shape              Param #   \n",
      "=================================================================\n",
      "conv2d_1 (Conv2D)            (None, 223, 223, 16)      208       \n",
      "_________________________________________________________________\n",
      "max_pooling2d_2 (MaxPooling2 (None, 111, 111, 16)      0         \n",
      "_________________________________________________________________\n",
      "conv2d_2 (Conv2D)            (None, 110, 110, 32)      2080      \n",
      "_________________________________________________________________\n",
      "max_pooling2d_3 (MaxPooling2 (None, 55, 55, 32)        0         \n",
      "_________________________________________________________________\n",
      "conv2d_3 (Conv2D)            (None, 54, 54, 64)        8256      \n",
      "_________________________________________________________________\n",
      "max_pooling2d_4 (MaxPooling2 (None, 27, 27, 64)        0         \n",
      "_________________________________________________________________\n",
      "conv2d_4 (Conv2D)            (None, 26, 26, 128)       32896     \n",
      "_________________________________________________________________\n",
      "global_average_pooling2d_1 ( (None, 128)               0         \n",
      "_________________________________________________________________\n",
      "dense_1 (Dense)              (None, 133)               17157     \n",
      "_________________________________________________________________\n",
      "activation_50 (Activation)   (None, 133)               0         \n",
      "=================================================================\n",
      "Total params: 60,597\n",
      "Trainable params: 60,597\n",
      "Non-trainable params: 0\n",
      "_________________________________________________________________\n"
     ]
    }
   ],
   "source": [
    "from keras.layers import Conv2D, MaxPooling2D, GlobalAveragePooling2D\n",
    "from keras.layers import Dropout, Flatten, Dense, Activation\n",
    "from keras.models import Sequential\n",
    "\n",
    "##########################################################################################\n",
    "#formula for output size (values for first conv layer)\n",
    "#out_height = ceil(float(in_height - filter_height + 1) / float(strides[1])) \n",
    "#= (224 - 2 + 1) / 1 = 223\n",
    "#out_width = ceil(float(in_width - filter_width + 1) / float(strides[2])) \n",
    "#= (224 - 2 + 1) / 1 = 223\n",
    "###########################################################################################\n",
    "\n",
    "model = Sequential()\n",
    "model.add(Conv2D(filters=16, kernel_size=2, activation='relu', \n",
    "                        input_shape=(224, 224, 3)))# output of (223,223,16)\n",
    "model.add(MaxPooling2D(pool_size=2))#output of (111,111,16)\n",
    "model.add(Conv2D(filters=32, kernel_size=2, activation='relu'))\n",
    "#output is (112,112,32)\n",
    "model.add(MaxPooling2D(pool_size=2))#output is (56,56,32)\n",
    "model.add(Conv2D(filters=64, kernel_size=2, activation='relu'))\n",
    "#output is (56,56,64)\n",
    "model.add(MaxPooling2D(pool_size=2))#output is (28,28,64)\n",
    "#######################################################new Conv2D layer\n",
    "model.add(Conv2D(filters=128, kernel_size=2, activation='relu'))\n",
    "###################################################################\n",
    "#add global average pooling 2D layer \n",
    "model.add(GlobalAveragePooling2D())\n",
    "#I should end up with a vector of 1*1*64?\n",
    "model.add(Dense(133))\n",
    "model.add(Activation('softmax'))\n",
    "\n",
    "### TODO: Define your architecture.\n",
    "\n",
    "model.summary()\n",
    "    "
   ]
  },
  {
   "cell_type": "markdown",
   "metadata": {},
   "source": [
    "### Compile the Model"
   ]
  },
  {
   "cell_type": "code",
   "execution_count": 14,
   "metadata": {},
   "outputs": [],
   "source": [
    "model.compile(optimizer='rmsprop', loss='categorical_crossentropy', metrics=['accuracy'])"
   ]
  },
  {
   "cell_type": "markdown",
   "metadata": {},
   "source": [
    "### (IMPLEMENTATION) Train the Model\n",
    "\n",
    "Train your model in the code cell below.  Use model checkpointing to save the model that attains the best validation loss.\n",
    "\n",
    "You are welcome to [augment the training data](https://blog.keras.io/building-powerful-image-classification-models-using-very-little-data.html), but this is not a requirement. "
   ]
  },
  {
   "cell_type": "code",
   "execution_count": 15,
   "metadata": {},
   "outputs": [
    {
     "name": "stdout",
     "output_type": "stream",
     "text": [
      "Train on 6680 samples, validate on 835 samples\n",
      "Epoch 1/5\n",
      "6680/6680 [==============================] - 237s 35ms/step - loss: 4.8818 - acc: 0.0109 - val_loss: 4.8641 - val_acc: 0.0132\n",
      "\n",
      "Epoch 00001: val_loss improved from inf to 4.86405, saving model to saved_models/weights.best.from_scratch.hdf5\n",
      "Epoch 2/5\n",
      "6680/6680 [==============================] - 245s 37ms/step - loss: 4.8296 - acc: 0.0172 - val_loss: 4.7839 - val_acc: 0.0204\n",
      "\n",
      "Epoch 00002: val_loss improved from 4.86405 to 4.78389, saving model to saved_models/weights.best.from_scratch.hdf5\n",
      "Epoch 3/5\n",
      "6680/6680 [==============================] - 241s 36ms/step - loss: 4.7536 - acc: 0.0214 - val_loss: 4.7435 - val_acc: 0.0228\n",
      "\n",
      "Epoch 00003: val_loss improved from 4.78389 to 4.74346, saving model to saved_models/weights.best.from_scratch.hdf5\n",
      "Epoch 4/5\n",
      "6680/6680 [==============================] - 248s 37ms/step - loss: 4.7018 - acc: 0.0260 - val_loss: 4.7117 - val_acc: 0.0216\n",
      "\n",
      "Epoch 00004: val_loss improved from 4.74346 to 4.71165, saving model to saved_models/weights.best.from_scratch.hdf5\n",
      "Epoch 5/5\n",
      "6680/6680 [==============================] - 242s 36ms/step - loss: 4.6520 - acc: 0.0314 - val_loss: 4.6632 - val_acc: 0.0311\n",
      "\n",
      "Epoch 00005: val_loss improved from 4.71165 to 4.66321, saving model to saved_models/weights.best.from_scratch.hdf5\n"
     ]
    },
    {
     "data": {
      "text/plain": [
       "<keras.callbacks.History at 0x7f7d8cb55f98>"
      ]
     },
     "execution_count": 15,
     "metadata": {},
     "output_type": "execute_result"
    }
   ],
   "source": [
    "#%%script false \n",
    "\n",
    "from keras.callbacks import ModelCheckpoint  \n",
    "\n",
    "\n",
    "### TODO: specify the number of epochs that you would like to use to train the model.\n",
    "\n",
    "epochs = 5\n",
    "\n",
    "### Do NOT modify the code below this line.\n",
    "\n",
    "checkpointer = ModelCheckpoint(filepath='saved_models/weights.best.from_scratch.hdf5', \n",
    "                               verbose=1, save_best_only=True)\n",
    "\n",
    "model.fit(train_tensors, train_targets, \n",
    "          validation_data=(valid_tensors, valid_targets),\n",
    "          epochs=epochs, batch_size=20, callbacks=[checkpointer], verbose=1)"
   ]
  },
  {
   "cell_type": "markdown",
   "metadata": {},
   "source": [
    "### Load the Model with the Best Validation Loss"
   ]
  },
  {
   "cell_type": "code",
   "execution_count": 16,
   "metadata": {},
   "outputs": [],
   "source": [
    "#%%script false \n",
    "model.load_weights('saved_models/weights.best.from_scratch.hdf5')"
   ]
  },
  {
   "cell_type": "markdown",
   "metadata": {},
   "source": [
    "### Test the Model\n",
    "\n",
    "Try out your model on the test dataset of dog images.  Ensure that your test accuracy is greater than 1%."
   ]
  },
  {
   "cell_type": "code",
   "execution_count": 17,
   "metadata": {},
   "outputs": [
    {
     "name": "stdout",
     "output_type": "stream",
     "text": [
      "Test accuracy: 3.8278%\n"
     ]
    }
   ],
   "source": [
    "#%%script false \n",
    "# get index of predicted dog breed for each image in test set\n",
    "dog_breed_predictions = [np.argmax(model.predict(np.expand_dims(tensor, axis=0))) for tensor in test_tensors]\n",
    "\n",
    "# report test accuracy\n",
    "test_accuracy = 100*np.sum(np.array(dog_breed_predictions)==np.argmax(test_targets, axis=1))/len(dog_breed_predictions)\n",
    "print('Test accuracy: %.4f%%' % test_accuracy)"
   ]
  },
  {
   "cell_type": "markdown",
   "metadata": {},
   "source": [
    "---\n",
    "<a id='step4'></a>\n",
    "## Step 4: Use a CNN to Classify Dog Breeds\n",
    "\n",
    "To reduce training time without sacrificing accuracy, we show you how to train a CNN using transfer learning.  In the following step, you will get a chance to use transfer learning to train your own CNN.\n",
    "\n",
    "### Obtain Bottleneck Features"
   ]
  },
  {
   "cell_type": "code",
   "execution_count": 18,
   "metadata": {},
   "outputs": [],
   "source": [
    "bottleneck_features = np.load('bottleneck_features/DogVGG16Data.npz')\n",
    "train_VGG16 = bottleneck_features['train']\n",
    "valid_VGG16 = bottleneck_features['valid']\n",
    "test_VGG16 = bottleneck_features['test']"
   ]
  },
  {
   "cell_type": "markdown",
   "metadata": {},
   "source": [
    "### Model Architecture\n",
    "\n",
    "The model uses the the pre-trained VGG-16 model as a fixed feature extractor, where the last convolutional output of VGG-16 is fed as input to our model.  We only add a global average pooling layer and a fully connected layer, where the latter contains one node for each dog category and is equipped with a softmax."
   ]
  },
  {
   "cell_type": "code",
   "execution_count": 19,
   "metadata": {},
   "outputs": [
    {
     "name": "stdout",
     "output_type": "stream",
     "text": [
      "_________________________________________________________________\n",
      "Layer (type)                 Output Shape              Param #   \n",
      "=================================================================\n",
      "global_average_pooling2d_2 ( (None, 512)               0         \n",
      "_________________________________________________________________\n",
      "dense_2 (Dense)              (None, 133)               68229     \n",
      "=================================================================\n",
      "Total params: 68,229\n",
      "Trainable params: 68,229\n",
      "Non-trainable params: 0\n",
      "_________________________________________________________________\n"
     ]
    }
   ],
   "source": [
    "VGG16_model = Sequential()\n",
    "VGG16_model.add(GlobalAveragePooling2D(input_shape=train_VGG16.shape[1:]))\n",
    "VGG16_model.add(Dense(133, activation='softmax'))\n",
    "\n",
    "VGG16_model.summary()"
   ]
  },
  {
   "cell_type": "markdown",
   "metadata": {},
   "source": [
    "### Compile the Model"
   ]
  },
  {
   "cell_type": "code",
   "execution_count": 20,
   "metadata": {},
   "outputs": [],
   "source": [
    "VGG16_model.compile(loss='categorical_crossentropy', optimizer='rmsprop', metrics=['accuracy'])"
   ]
  },
  {
   "cell_type": "markdown",
   "metadata": {},
   "source": [
    "### Train the Model"
   ]
  },
  {
   "cell_type": "code",
   "execution_count": 21,
   "metadata": {},
   "outputs": [
    {
     "name": "stdout",
     "output_type": "stream",
     "text": [
      "Train on 6680 samples, validate on 835 samples\n",
      "Epoch 1/5\n",
      "6680/6680 [==============================] - 3s 419us/step - loss: 11.7146 - acc: 0.1322 - val_loss: 9.6067 - val_acc: 0.2671\n",
      "\n",
      "Epoch 00001: val_loss improved from inf to 9.60672, saving model to saved_models/weights.best.VGG16.hdf5\n",
      "Epoch 2/5\n",
      "6680/6680 [==============================] - 2s 256us/step - loss: 8.9119 - acc: 0.3222 - val_loss: 8.6672 - val_acc: 0.3389\n",
      "\n",
      "Epoch 00002: val_loss improved from 9.60672 to 8.66717, saving model to saved_models/weights.best.VGG16.hdf5\n",
      "Epoch 3/5\n",
      "6680/6680 [==============================] - 2s 262us/step - loss: 8.1664 - acc: 0.4094 - val_loss: 8.3455 - val_acc: 0.3677\n",
      "\n",
      "Epoch 00003: val_loss improved from 8.66717 to 8.34549, saving model to saved_models/weights.best.VGG16.hdf5\n",
      "Epoch 4/5\n",
      "6680/6680 [==============================] - 2s 261us/step - loss: 7.8291 - acc: 0.4482 - val_loss: 8.0278 - val_acc: 0.4108\n",
      "\n",
      "Epoch 00004: val_loss improved from 8.34549 to 8.02776, saving model to saved_models/weights.best.VGG16.hdf5\n",
      "Epoch 5/5\n",
      "6680/6680 [==============================] - 2s 265us/step - loss: 7.6635 - acc: 0.4766 - val_loss: 8.0133 - val_acc: 0.4108\n",
      "\n",
      "Epoch 00005: val_loss improved from 8.02776 to 8.01327, saving model to saved_models/weights.best.VGG16.hdf5\n"
     ]
    },
    {
     "data": {
      "text/plain": [
       "<keras.callbacks.History at 0x7f7d5d204a58>"
      ]
     },
     "execution_count": 21,
     "metadata": {},
     "output_type": "execute_result"
    }
   ],
   "source": [
    "from keras.callbacks import ModelCheckpoint  \n",
    "\n",
    "checkpointer = ModelCheckpoint(filepath='saved_models/weights.best.VGG16.hdf5', \n",
    "                               verbose=1, save_best_only=True)\n",
    "\n",
    "VGG16_model.fit(train_VGG16, train_targets, #what is train_targets and valid_targets?\n",
    "          validation_data=(valid_VGG16, valid_targets),\n",
    "          epochs=5, batch_size=20, callbacks=[checkpointer], verbose=1)"
   ]
  },
  {
   "cell_type": "markdown",
   "metadata": {},
   "source": [
    "### Load the Model with the Best Validation Loss"
   ]
  },
  {
   "cell_type": "code",
   "execution_count": 22,
   "metadata": {},
   "outputs": [],
   "source": [
    "VGG16_model.load_weights('saved_models/weights.best.VGG16.hdf5')"
   ]
  },
  {
   "cell_type": "markdown",
   "metadata": {},
   "source": [
    "### Test the Model\n",
    "\n",
    "Now, we can use the CNN to test how well it identifies breed within our test dataset of dog images.  We print the test accuracy below."
   ]
  },
  {
   "cell_type": "code",
   "execution_count": 23,
   "metadata": {},
   "outputs": [
    {
     "name": "stdout",
     "output_type": "stream",
     "text": [
      "Test accuracy: 40.6699%\n"
     ]
    }
   ],
   "source": [
    "# get index of predicted dog breed for each image in test set\n",
    "VGG16_predictions = [np.argmax(VGG16_model.predict(np.expand_dims(feature, axis=0))) for feature in test_VGG16]\n",
    "\n",
    "# report test accuracy\n",
    "#print(np.array(VGG16_predictions))\n",
    "#print(np.argmax(test_targets, axis=1))\n",
    "#print(np.array(VGG16_predictions)==np.argmax(test_targets, axis=1))\n",
    "\n",
    "test_accuracy = 100*np.sum(np.array(VGG16_predictions)==np.argmax(test_targets, axis=1))/len(VGG16_predictions)\n",
    "print('Test accuracy: %.4f%%' % test_accuracy)"
   ]
  },
  {
   "cell_type": "markdown",
   "metadata": {},
   "source": [
    "### Predict Dog Breed with the Model"
   ]
  },
  {
   "cell_type": "code",
   "execution_count": 24,
   "metadata": {},
   "outputs": [],
   "source": [
    "from extract_bottleneck_features import * #add some lines to use this function to predict breed\n",
    "\n",
    "#returns the index argmax of the predicted vector which corresponds to dog_names dictionary index\n",
    "def VGG16_predict_breed(img_path):\n",
    "    # extract bottleneck features\n",
    "    bottleneck_feature = extract_VGG16(path_to_tensor(img_path))\n",
    "    # obtain predicted vector\n",
    "    predicted_vector = VGG16_model.predict(bottleneck_feature)\n",
    "    # return dog breed that is predicted by the model\n",
    "    #print (dog_names[np.argmax(predicted_vector)])\n",
    "    return dog_names[np.argmax(predicted_vector)]\n",
    "\n",
    "\n",
    "\n",
    "\n"
   ]
  },
  {
   "cell_type": "markdown",
   "metadata": {},
   "source": [
    "---\n",
    "<a id='step5'></a>\n",
    "## Step 5: Create a CNN to Classify Dog Breeds (using Transfer Learning)\n",
    "\n",
    "You will now use transfer learning to create a CNN that can identify dog breed from images.  Your CNN must attain at least 60% accuracy on the test set.\n",
    "\n",
    "In Step 4, we used transfer learning to create a CNN using VGG-16 bottleneck features.  In this section, you must use the bottleneck features from a different pre-trained model.  To make things easier for you, we have pre-computed the features for all of the networks that are currently available in Keras:\n",
    "- [VGG-19](https://s3-us-west-1.amazonaws.com/udacity-aind/dog-project/DogVGG19Data.npz) bottleneck features\n",
    "- [ResNet-50](https://s3-us-west-1.amazonaws.com/udacity-aind/dog-project/DogResnet50Data.npz) bottleneck features\n",
    "- [Inception](https://s3-us-west-1.amazonaws.com/udacity-aind/dog-project/DogInceptionV3Data.npz) bottleneck features\n",
    "- [Xception](https://s3-us-west-1.amazonaws.com/udacity-aind/dog-project/DogXceptionData.npz) bottleneck features\n",
    "\n",
    "The files are encoded as such:\n",
    "\n",
    "    Dog{network}Data.npz\n",
    "    \n",
    "where `{network}`, in the above filename, can be one of `VGG19`, `Resnet50`, `InceptionV3`, or `Xception`.  Pick one of the above architectures, download the corresponding bottleneck features, and store the downloaded file in the `bottleneck_features/` folder in the repository.\n",
    "\n",
    "### (IMPLEMENTATION) Obtain Bottleneck Features\n",
    "\n",
    "In the code block below, extract the bottleneck features corresponding to the train, test, and validation sets by running the following:\n",
    "\n",
    "    bottleneck_features = np.load('bottleneck_features/Dog{network}Data.npz')\n",
    "    train_{network} = bottleneck_features['train']\n",
    "    valid_{network} = bottleneck_features['valid']\n",
    "    test_{network} = bottleneck_features['test']"
   ]
  },
  {
   "cell_type": "code",
   "execution_count": 25,
   "metadata": {},
   "outputs": [
    {
     "name": "stdout",
     "output_type": "stream",
     "text": [
      "(1, 1, 2048)\n"
     ]
    }
   ],
   "source": [
    "### TODO: Obtain bottleneck features from another pre-trained CNN.\n",
    "##insert network name from above\n",
    "\n",
    "import numpy as np\n",
    "\n",
    "bottleneck_features = np.load('bottleneck_features/DogResnet50Data.npz')\n",
    "train_ResNet50 = bottleneck_features['train']\n",
    "valid_ResNet50 = bottleneck_features['valid']\n",
    "test_ResNet50 = bottleneck_features['test']\n",
    "\n",
    "\n",
    "#print output shape of ResNet50\n",
    "input_shape=train_ResNet50.shape[1:]\n",
    "print (input_shape) #this prints (1,1,2048) so a vector of length 2048"
   ]
  },
  {
   "cell_type": "markdown",
   "metadata": {},
   "source": [
    "### (IMPLEMENTATION) Model Architecture\n",
    "\n",
    "Create a CNN to classify dog breed.  At the end of your code cell block, summarize the layers of your model by executing the line:\n",
    "    \n",
    "        <your model's name>.summary()\n",
    "   \n",
    "__Question 5:__ Outline the steps you took to get to your final CNN architecture and your reasoning at each step.  Describe why you think the architecture is suitable for the current problem.\n",
    "\n",
    "__Answer:__ Used ResNet50 because the dataset is similar as explained here:  https://github.com/udacity/aind2-cnn/blob/master/transfer-learning/transfer_learning.ipynb\n",
    "Then we just need to chop off the final few fully connected layers, use the CNN as feature extractors and then add some Dense layers to classify into 133 breeds. ResNet50 is trained on Image Net and we already have the classifications between 151 and 268 in the dictionary.  However, a bit lost on how there are 133 breed categories and only 118 dictionary indexes.   \n",
    "\n"
   ]
  },
  {
   "cell_type": "code",
   "execution_count": 26,
   "metadata": {},
   "outputs": [
    {
     "name": "stdout",
     "output_type": "stream",
     "text": [
      "_________________________________________________________________\n",
      "Layer (type)                 Output Shape              Param #   \n",
      "=================================================================\n",
      "global_average_pooling2d_3 ( (None, 2048)              0         \n",
      "_________________________________________________________________\n",
      "dense_3 (Dense)              (None, 133)               272517    \n",
      "=================================================================\n",
      "Total params: 272,517\n",
      "Trainable params: 272,517\n",
      "Non-trainable params: 0\n",
      "_________________________________________________________________\n"
     ]
    }
   ],
   "source": [
    "### TODO: Define your architecture.\n",
    "#I only need a few layers on the end\n",
    "#example 1 from https://github.com/udacity/aind2-cnn/blob/master/transfer-learning/transfer_learning.ipynb\n",
    "#input shape was (224,224,3) but what is it after ResNet?\n",
    "\n",
    "from keras.layers import Dense, Flatten\n",
    "from keras.models import Sequential\n",
    "from keras.layers import GlobalAveragePooling2D\n",
    "\n",
    "Resnet50_model = Sequential()\n",
    "#model.add(Flatten(input_shape=(1,1,2048)))#need input shape\n",
    "#model.add(Dense(133, activation='softmax'))\n",
    "Resnet50_model.add(GlobalAveragePooling2D(input_shape=(1,1,2048)))#272,517 parameters without GAP\n",
    "#model.add(Dense(500))\n",
    "Resnet50_model.add(Dense(133, activation='softmax'))\n",
    "Resnet50_model.compile(loss='categorical_crossentropy', optimizer='Adam', \n",
    "                  metrics=['accuracy'])\n",
    "Resnet50_model.summary()\n",
    "\n",
    "#example 2\n",
    "\n",
    "#from keras.layers import GlobalAveragePooling2D\n",
    "\n",
    "#model = Sequential()\n",
    "#model.add(GlobalAveragePooling2D(input_shape=(7, 7, 512)))\n",
    "#model.add(Dense(133, activation='softmax'))\n",
    "#model.summary()"
   ]
  },
  {
   "cell_type": "markdown",
   "metadata": {},
   "source": [
    "### (IMPLEMENTATION) Compile the Model"
   ]
  },
  {
   "cell_type": "code",
   "execution_count": 27,
   "metadata": {},
   "outputs": [],
   "source": [
    "### TODO: Compile the model.\n",
    "Resnet50_model.compile(loss='categorical_crossentropy', optimizer='Adam', metrics=['accuracy'])"
   ]
  },
  {
   "cell_type": "markdown",
   "metadata": {},
   "source": [
    "### (IMPLEMENTATION) Train the Model\n",
    "\n",
    "Train your model in the code cell below.  Use model checkpointing to save the model that attains the best validation loss.  \n",
    "\n",
    "You are welcome to [augment the training data](https://blog.keras.io/building-powerful-image-classification-models-using-very-little-data.html), but this is not a requirement. "
   ]
  },
  {
   "cell_type": "code",
   "execution_count": 28,
   "metadata": {},
   "outputs": [
    {
     "name": "stdout",
     "output_type": "stream",
     "text": [
      "Train on 6680 samples, validate on 835 samples\n",
      "Epoch 1/5\n",
      "6680/6680 [==============================] - 3s 387us/step - loss: 1.8558 - acc: 0.5630 - val_loss: 0.8858 - val_acc: 0.7401\n",
      "\n",
      "Epoch 00001: val_loss improved from inf to 0.88585, saving model to DogResnet50Data.weights.best.hdf5\n",
      "Epoch 2/5\n",
      "6680/6680 [==============================] - 2s 277us/step - loss: 0.4087 - acc: 0.8984 - val_loss: 0.6881 - val_acc: 0.7796\n",
      "\n",
      "Epoch 00002: val_loss improved from 0.88585 to 0.68812, saving model to DogResnet50Data.weights.best.hdf5\n",
      "Epoch 3/5\n",
      "6680/6680 [==============================] - 2s 278us/step - loss: 0.1978 - acc: 0.9671 - val_loss: 0.6534 - val_acc: 0.8132\n",
      "\n",
      "Epoch 00003: val_loss improved from 0.68812 to 0.65339, saving model to DogResnet50Data.weights.best.hdf5\n",
      "Epoch 4/5\n",
      "6680/6680 [==============================] - 2s 266us/step - loss: 0.1150 - acc: 0.9867 - val_loss: 0.5954 - val_acc: 0.8108\n",
      "\n",
      "Epoch 00004: val_loss improved from 0.65339 to 0.59540, saving model to DogResnet50Data.weights.best.hdf5\n",
      "Epoch 5/5\n",
      "6680/6680 [==============================] - 2s 263us/step - loss: 0.0742 - acc: 0.9948 - val_loss: 0.5839 - val_acc: 0.8228\n",
      "\n",
      "Epoch 00005: val_loss improved from 0.59540 to 0.58389, saving model to DogResnet50Data.weights.best.hdf5\n"
     ]
    },
    {
     "data": {
      "text/plain": [
       "<keras.callbacks.History at 0x7f7d401c1a90>"
      ]
     },
     "execution_count": 28,
     "metadata": {},
     "output_type": "execute_result"
    }
   ],
   "source": [
    "### TODO: Train the model.\n",
    "from keras.callbacks import ModelCheckpoint   \n",
    "\n",
    "# train the model\n",
    "checkpointer = ModelCheckpoint(filepath='DogResnet50Data.weights.best.hdf5', verbose=1, save_best_only=True)\n",
    "Resnet50_model.fit(train_ResNet50, train_targets, epochs=5, validation_data=(valid_ResNet50, valid_targets), callbacks=[checkpointer], verbose=1) #shuffle=True)"
   ]
  },
  {
   "cell_type": "markdown",
   "metadata": {},
   "source": [
    "### (IMPLEMENTATION) Load the Model with the Best Validation Loss"
   ]
  },
  {
   "cell_type": "code",
   "execution_count": 29,
   "metadata": {},
   "outputs": [],
   "source": [
    "### TODO: Load the model weights with the best validation loss.\n",
    "Resnet50_model.load_weights('DogResnet50Data.weights.best.hdf5')"
   ]
  },
  {
   "cell_type": "markdown",
   "metadata": {},
   "source": [
    "### (IMPLEMENTATION) Test the Model\n",
    "\n",
    "Try out your model on the test dataset of dog images. Ensure that your test accuracy is greater than 60%."
   ]
  },
  {
   "cell_type": "code",
   "execution_count": 30,
   "metadata": {},
   "outputs": [
    {
     "name": "stdout",
     "output_type": "stream",
     "text": [
      "\n",
      "Test accuracy: 81.6986%\n"
     ]
    }
   ],
   "source": [
    "### TODO: Calculate classification accuracy on the test dataset.\n",
    "# get index of predicted dog breed for each image in test set\n",
    "Resnet50_predictions = [np.argmax(Resnet50_model.predict(np.expand_dims(feature, axis=0))) \n",
    "                     for feature in test_ResNet50]\n",
    "\n",
    "# report test accuracy\n",
    "test_accuracy = 100*np.sum(np.array(Resnet50_predictions)==\n",
    "                           np.argmax(test_targets, axis=1))/len(Resnet50_predictions)\n",
    "print('\\nTest accuracy: %.4f%%' % test_accuracy)\n"
   ]
  },
  {
   "cell_type": "markdown",
   "metadata": {},
   "source": [
    "### (IMPLEMENTATION) Predict Dog Breed with the Model\n",
    "\n",
    "Write a function that takes an image path as input and returns the dog breed (`Affenpinscher`, `Afghan_hound`, etc) that is predicted by your model.  \n",
    "\n",
    "Similar to the analogous function in Step 5, your function should have three steps:\n",
    "1. Extract the bottleneck features corresponding to the chosen CNN model.\n",
    "2. Supply the bottleneck features as input to the model to return the predicted vector.  Note that the argmax of this prediction vector gives the index of the predicted dog breed.\n",
    "3. Use the `dog_names` array defined in Step 0 of this notebook to return the corresponding breed.\n",
    "\n",
    "The functions to extract the bottleneck features can be found in `extract_bottleneck_features.py`, and they have been imported in an earlier code cell.  To obtain the bottleneck features corresponding to your chosen CNN architecture, you need to use the function\n",
    "\n",
    "    extract_{network}\n",
    "    \n",
    "where `{network}`, in the above filename, should be one of `VGG19`, `Resnet50`, `InceptionV3`, or `Xception`."
   ]
  },
  {
   "cell_type": "code",
   "execution_count": 31,
   "metadata": {},
   "outputs": [],
   "source": [
    "### TODO: Write a function that takes a path to an image as input\n",
    "### and returns the dog breed that is predicted by the model.\n",
    "#for one image\n",
    "from extract_bottleneck_features import *\n",
    "\n",
    "###################################################################################\n",
    "#def Resnet50_predict_breed(img_path):\n",
    "    # extract bottleneck features\n",
    " #   bottleneck_feature = extract_VGG16(path_to_tensor(img_path))\n",
    "    # obtain predicted vector\n",
    "  #  predicted_vector = VGG16_model.predict(bottleneck_feature)\n",
    "    # return dog breed that is predicted by the model\n",
    "    #print (dog_names[np.argmax(predicted_vector)])\n",
    "   # return dog_names[np.argmax(predicted_vector)]#dog_names is th\n",
    "#######################################################################################3\n",
    "def dog_breed_finder(img_path):\n",
    "    bottleneck_Resnet = extract_Resnet50(path_to_tensor(img_path))\n",
    "    \n",
    "    predicted_vector = Resnet50_model.predict(bottleneck_Resnet)\n",
    "    #print(predicted_vector)\n",
    "    #print(dog_names[np.argmax(predicted_vector)])\n",
    "    \n",
    "    return dog_names[np.argmax(predicted_vector)]#returns dog name matching argmax index of \n",
    "#vector\n",
    "\n",
    "\n",
    "\n"
   ]
  },
  {
   "cell_type": "markdown",
   "metadata": {},
   "source": [
    "---\n",
    "<a id='step6'></a>\n",
    "## Step 6: Write your Algorithm\n",
    "\n",
    "Write an algorithm that accepts a file path to an image and first determines whether the image contains a human, dog, or neither.  Then,\n",
    "- if a __dog__ is detected in the image, return the predicted breed.\n",
    "- if a __human__ is detected in the image, return the resembling dog breed.\n",
    "- if __neither__ is detected in the image, provide output that indicates an error.\n",
    "\n",
    "You are welcome to write your own functions for detecting humans and dogs in images, but feel free to use the `face_detector` and `dog_detector` functions developed above.  You are __required__ to use your CNN from Step 5 to predict dog breed.  \n",
    "\n",
    "Some sample output for our algorithm is provided below, but feel free to design your own user experience!\n",
    "\n",
    "![Sample Human Output](images/sample_human_output.png)\n",
    "\n",
    "\n",
    "### (IMPLEMENTATION) Write your Algorithm"
   ]
  },
  {
   "cell_type": "code",
   "execution_count": 32,
   "metadata": {},
   "outputs": [],
   "source": [
    "### TODO: Write your algorithm.\n",
    "### Feel free to use as many code cells as needed.\n",
    "\n",
    "#function to guess what breed a dog is or what breed the human face resembles, returns error for neither\n",
    "#first run image through both detectors used earlier so we have 2 boolean values\n",
    "#use those as conditions in if-else statement to run image through Resnet50 transfer learning CNN using\n",
    "#dog_breed_finder() and print result.  \n",
    "\n",
    "#for single image\n",
    "#feed it file path to an image, if dog then return breed, elif human return breed\n",
    "#else error\n",
    "#TODO: preprocess images for face detector \n",
    "#print image\n",
    "\n",
    "from PIL import Image\n",
    "#with Image.open('path/to/file.jpg') as img:\n",
    " #   img.show()\n",
    "\n",
    "def closest_dog(img_path):\n",
    "    is_dog = dog_detector(img_path)\n",
    "    if is_dog == True:\n",
    "        breed_name=dog_breed_finder(img_path)\n",
    "        print(\"It's a \" + breed_name)\n",
    "        with Image.open(img_path) as img:\n",
    "            img.show()\n",
    "    elif is_dog == False:\n",
    "        is_human = face_detector(img_path)\n",
    "        if is_human ==True:\n",
    "            breed_name=dog_breed_finder(img_path)#dog_breed_finder is Resnet_predict_breed\n",
    "            print(\"You look like a \" + breed_name)\n",
    "            with Image.open(img_path) as img:\n",
    "                img.show()\n",
    "        else:\n",
    "            print(\"Error.  Try another picture.\")\n",
    "            with Image.open(img_path) as img:\n",
    "                img.show()\n",
    "    \n",
    "    \n",
    "    \n",
    "\n",
    "    \n",
    "    \n",
    "    "
   ]
  },
  {
   "cell_type": "markdown",
   "metadata": {},
   "source": [
    "---\n",
    "<a id='step7'></a>\n",
    "## Step 7: Test Your Algorithm\n",
    "\n",
    "In this section, you will take your new algorithm for a spin!  What kind of dog does the algorithm think that __you__ look like?  If you have a dog, does it predict your dog's breed accurately?  If you have a cat, does it mistakenly think that your cat is a dog?\n",
    "\n",
    "### (IMPLEMENTATION) Test Your Algorithm on Sample Images!\n",
    "\n",
    "Test your algorithm at least six images on your computer.  Feel free to use any images you like.  Use at least two human and two dog images.  \n",
    "\n",
    "__Question 6:__ Is the output better than you expected :) ?  Or worse :( ?  Provide at least three possible points of improvement for your algorithm.\n",
    "\n",
    "__Answer:__ It is worse than expected because it did not detect a face in the hulk image nor a dog in the Shiba puppy image.  Hence I would augment the datasets to include different colors (maybe just play around with the RGB scheme to give normal people green skin) and add some puppy photos.  Also, both Jessica Alba and I were told we look like Silky Terriers over a few iterations but I don't think we look alike.  Trump was told he looks like a Beagle here so I think facial expression and other factors that require data augmentation are playing a factor.  It also gave an error for the lion image which was surprising because to me it could look like a dog to say a small child.  \n",
    "Second, I want to add some code that updates the weights whenever the algorithm makes an error.  This sounds difficult but in essence a real-time weight updater.  \n",
    "Third, it takes quite long to process each image so perhaps adding an autoencoder somewhere to compress the image size would be helpful.  "
   ]
  },
  {
   "cell_type": "code",
   "execution_count": 33,
   "metadata": {
    "scrolled": false
   },
   "outputs": [
    {
     "name": "stdout",
     "output_type": "stream",
     "text": [
      "['samplePics/bakatono' 'samplePics/jessica' 'samplePics/lion'\n",
      " 'samplePics/trump' 'samplePics/chowChow.jpeg' 'samplePics/hulk'\n",
      " 'samplePics/shibaPuppy.jpg' 'samplePics/shirtAndTie']\n",
      "You look like a Greyhound\n",
      "You look like a Silky_terrier\n",
      "Error.  Try another picture.\n",
      "You look like a Beagle\n",
      "It's a Chow_chow\n",
      "Error.  Try another picture.\n",
      "Error.  Try another picture.\n",
      "You look like a Silky_terrier\n"
     ]
    }
   ],
   "source": [
    "## TODO: Execute your algorithm from Step 6 on\n",
    "## at least 6 images on your computer.\n",
    "## Feel free to use as many code cells as needed.\n",
    "#grab image file, run through dog or human detector and output prediction\n",
    "\n",
    "import numpy as np\n",
    "from glob import glob\n",
    "\n",
    "\n",
    "\n",
    "#################################################################################################\n",
    "#test on dog images\n",
    "#closest_dog(train_files[0])\n",
    "#closest_dog(train_files[1])\n",
    "#closest_dog(train_files[2])\n",
    "#closest_dog(train_files[3])\n",
    "\n",
    "#test on human images\n",
    "\n",
    "#human_files = np.array(glob(\"lfw/*/*\"))\n",
    "#closest_dog(human_files[0])\n",
    "#closest_dog(human_files[1])\n",
    "#closest_dog(human_files[2])\n",
    "#closest_dog(human_files[3])\n",
    "#closest_dog(human_files[4])\n",
    "#closest_dog(human_files[5])\n",
    "\n",
    "#actual pics testing\n",
    "#8 images including 2 dogs and 2 humans\n",
    "my_pics = np.array(glob(\"samplePics/*\"))\n",
    "print(my_pics)\n",
    "for i in range(len(my_pics)):\n",
    "    closest_dog(my_pics[i])\n",
    "\n",
    "\n"
   ]
  },
  {
   "cell_type": "code",
   "execution_count": null,
   "metadata": {},
   "outputs": [],
   "source": []
  },
  {
   "cell_type": "code",
   "execution_count": null,
   "metadata": {},
   "outputs": [],
   "source": []
  },
  {
   "cell_type": "code",
   "execution_count": null,
   "metadata": {},
   "outputs": [],
   "source": []
  }
 ],
 "metadata": {
  "anaconda-cloud": {},
  "kernelspec": {
   "display_name": "Python 3",
   "language": "python",
   "name": "python3"
  },
  "language_info": {
   "codemirror_mode": {
    "name": "ipython",
    "version": 3
   },
   "file_extension": ".py",
   "mimetype": "text/x-python",
   "name": "python",
   "nbconvert_exporter": "python",
   "pygments_lexer": "ipython3",
   "version": "3.6.4"
  }
 },
 "nbformat": 4,
 "nbformat_minor": 1
}
